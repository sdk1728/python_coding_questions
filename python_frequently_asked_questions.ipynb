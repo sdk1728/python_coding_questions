{
 "cells": [
  {
   "cell_type": "markdown",
   "id": "e9e8c6b3",
   "metadata": {},
   "source": [
    "## 1) 2 number swapping"
   ]
  },
  {
   "cell_type": "code",
   "execution_count": 1,
   "id": "be2ab262",
   "metadata": {},
   "outputs": [
    {
     "name": "stdout",
     "output_type": "stream",
     "text": [
      "Enter number 1: 12\n",
      "Enter number 2: 56\n",
      "num1 before swapping: 12\n",
      "num2 before swapping: 56\n",
      "num1 after swapping: 56\n",
      "num2 after swapping: 12\n"
     ]
    }
   ],
   "source": [
    "num1=int(input(\"Enter number 1: \"))\n",
    "num2=int(input('Enter number 2: '))\n",
    "\n",
    "print(\"num1 before swapping:\",num1)\n",
    "print(\"num2 before swapping:\",num2)\n",
    "\n",
    "temp=num1\n",
    "num1=num2\n",
    "num2=temp\n",
    "\n",
    "print(\"num1 after swapping:\",num1)\n",
    "print(\"num2 after swapping:\",num2)"
   ]
  },
  {
   "cell_type": "markdown",
   "id": "d9b6a457",
   "metadata": {},
   "source": [
    "## 2) To check if number is prime or not"
   ]
  },
  {
   "cell_type": "markdown",
   "id": "d135e0c8",
   "metadata": {},
   "source": [
    "#### Prime number : should be a natural number ie. (num>1)\n",
    "#### should have only 2 factors ie. Factors= 1 & number itself"
   ]
  },
  {
   "cell_type": "code",
   "execution_count": 1,
   "id": "8f88031d",
   "metadata": {},
   "outputs": [
    {
     "name": "stdout",
     "output_type": "stream",
     "text": [
      "Enter the number:7\n",
      "Entered number is Prime\n"
     ]
    }
   ],
   "source": [
    "num=int(input(\"Enter the number:\"))\n",
    "count=0\n",
    "\n",
    "if num>1:\n",
    "    for i in range(1,num+1):\n",
    "        if num%i==0:\n",
    "            count=count+1\n",
    "            \n",
    "if count==2:\n",
    "    print(\"Entered number is Prime\")\n",
    "else:\n",
    "    print(\"Entered number is not a prime number\")\n",
    "    "
   ]
  },
  {
   "cell_type": "markdown",
   "id": "f1614374",
   "metadata": {},
   "source": [
    "## 3)To print the factorial of a number\n"
   ]
  },
  {
   "cell_type": "code",
   "execution_count": 13,
   "id": "4ebc7543",
   "metadata": {},
   "outputs": [
    {
     "name": "stdout",
     "output_type": "stream",
     "text": [
      "Enter the number: 3\n",
      "The factorial of  3 is 6\n"
     ]
    }
   ],
   "source": [
    "num=int(input(\"Enter the number: \"))\n",
    "factorial=1\n",
    "\n",
    "if num<0:\n",
    "    print(\"The factorial of a number doesn't exist!!\")\n",
    "elif num==0:\n",
    "    print(\"The factorial of 0 is 1\")\n",
    "else:\n",
    "    for i in range(1,num+1):\n",
    "        factorial=factorial*i\n",
    "    print(\"The factorial of \",num, \"is\",factorial)"
   ]
  },
  {
   "cell_type": "code",
   "execution_count": 16,
   "id": "6e0b51bf",
   "metadata": {},
   "outputs": [
    {
     "name": "stdout",
     "output_type": "stream",
     "text": [
      "Enter the number :3\n",
      "The factorial of  3 is 6\n"
     ]
    }
   ],
   "source": [
    "def factorial(n):\n",
    "    if n==0 or n==1:\n",
    "        return 1\n",
    "    else:\n",
    "        return n*factorial(n-1)\n",
    "    \n",
    "num=int(input(\"Enter the number :\"))\n",
    "print(\"The factorial of \",num,\"is\",factorial(num))"
   ]
  },
  {
   "cell_type": "code",
   "execution_count": 18,
   "id": "87fcb141",
   "metadata": {},
   "outputs": [
    {
     "name": "stdout",
     "output_type": "stream",
     "text": [
      "1\n",
      "2\n",
      "3\n"
     ]
    }
   ],
   "source": [
    "for i in range(1,4):\n",
    "    print(i)"
   ]
  },
  {
   "cell_type": "markdown",
   "id": "1dddc859",
   "metadata": {},
   "source": [
    "## 4)To print the Fibonacci Series\n",
    "\n",
    "### Fibonacci Series is the series of numbers in which each number is the sum of two precedding numbers\n",
    "\n",
    "### ie. 0,1,1,2,3,5,8,13,..............."
   ]
  },
  {
   "cell_type": "code",
   "execution_count": 24,
   "id": "7c7f60c8",
   "metadata": {},
   "outputs": [
    {
     "name": "stdout",
     "output_type": "stream",
     "text": [
      "2 1\n",
      "3 2\n",
      "4 3\n",
      "5 5\n",
      "6 8\n",
      "7 13\n",
      "8 21\n",
      "9 34\n"
     ]
    }
   ],
   "source": [
    "n1=0\n",
    "n2=1\n",
    "\n",
    "#print(n1)\n",
    "#print(n2)\n",
    "\n",
    "for i in range(2,10):\n",
    "    sum=n1+n2\n",
    "    print(i,sum)\n",
    "    n1=n2\n",
    "    n2=sum\n",
    "    "
   ]
  },
  {
   "cell_type": "markdown",
   "id": "14e94d40",
   "metadata": {},
   "source": [
    "## 5) To print sum of numbers in list\n",
    "    "
   ]
  },
  {
   "cell_type": "code",
   "execution_count": 1,
   "id": "37cd8af0",
   "metadata": {},
   "outputs": [
    {
     "name": "stdout",
     "output_type": "stream",
     "text": [
      "31\n"
     ]
    }
   ],
   "source": [
    "import math\n",
    "arr=[1,4,6,8,3,9]\n",
    "print(sum(arr))"
   ]
  },
  {
   "cell_type": "markdown",
   "id": "5b6b8ac4",
   "metadata": {},
   "source": [
    "## 6)To print maximum value in list & its index"
   ]
  },
  {
   "cell_type": "code",
   "execution_count": 7,
   "id": "0bc3e378",
   "metadata": {},
   "outputs": [
    {
     "name": "stdout",
     "output_type": "stream",
     "text": [
      "Value:9,index:5\n"
     ]
    }
   ],
   "source": [
    "max_value=max(arr)\n",
    "\n",
    "for index , value in enumerate(arr):\n",
    "    if value==max_value:\n",
    "        print(f\"Value:{value},index:{index}\")"
   ]
  },
  {
   "cell_type": "markdown",
   "id": "7650dbf6",
   "metadata": {},
   "source": [
    "## 7)To print minimum value in list & its index"
   ]
  },
  {
   "cell_type": "code",
   "execution_count": 3,
   "id": "c72ceec6",
   "metadata": {},
   "outputs": [
    {
     "name": "stdout",
     "output_type": "stream",
     "text": [
      "maximum value:  8745 index: 0\n",
      "minimum value:  3 index: 5\n"
     ]
    }
   ],
   "source": [
    "l2=[8745,23,87,12,67,3,67,12,67,236,12,56]\n",
    "max_l2=max(l2)\n",
    "min_l2=min(l2)\n",
    "\n",
    "for index,value in enumerate(l2):\n",
    "    if value==max_l2:\n",
    "        print(\"maximum value: \",value,\"index:\",index)\n",
    "    elif value==min_l2:\n",
    "        print(\"minimum value: \",value,\"index:\",index)"
   ]
  },
  {
   "cell_type": "markdown",
   "id": "97c223b3",
   "metadata": {},
   "source": [
    "## 8)To print length of list using for loop"
   ]
  },
  {
   "cell_type": "code",
   "execution_count": 6,
   "id": "d6fc349f",
   "metadata": {},
   "outputs": [
    {
     "name": "stdout",
     "output_type": "stream",
     "text": [
      "The length of list is 12\n",
      "12\n"
     ]
    }
   ],
   "source": [
    "count=0\n",
    "\n",
    "for i in l2:\n",
    "    count=count+1\n",
    "print(f\"The length of list is {count}\")\n",
    "print(len(l2))"
   ]
  },
  {
   "cell_type": "markdown",
   "id": "c9a31f37",
   "metadata": {},
   "source": [
    "## 9)To Swap First & Last Elements of a List"
   ]
  },
  {
   "cell_type": "code",
   "execution_count": 10,
   "id": "3a399445",
   "metadata": {},
   "outputs": [
    {
     "name": "stdout",
     "output_type": "stream",
     "text": [
      "List before swapping: [1, 32, 4, 45, 6, 78, 7]\n",
      "List after swapping: [7, 32, 4, 45, 6, 78, 1]\n"
     ]
    }
   ],
   "source": [
    "l1=[1,32,4,45,6,78,7]\n",
    "print(\"List before swapping:\",l1)\n",
    "\n",
    "temp=l1[0]\n",
    "l1[0]=l1[-1]\n",
    "l1[-1]=temp\n",
    "\n",
    "\n",
    "print(\"List after swapping:\",l1)\n"
   ]
  },
  {
   "cell_type": "code",
   "execution_count": 11,
   "id": "785b1b85",
   "metadata": {},
   "outputs": [
    {
     "name": "stdout",
     "output_type": "stream",
     "text": [
      "[1, 32, 4, 45, 6, 78, 7]\n"
     ]
    }
   ],
   "source": [
    "l1[0],l1[-1]=l1[-1],l1[0]\n",
    "print(l1)"
   ]
  },
  {
   "cell_type": "code",
   "execution_count": 13,
   "id": "78f22748",
   "metadata": {},
   "outputs": [
    {
     "name": "stdout",
     "output_type": "stream",
     "text": [
      "[7, 32, 4, 45, 6, 78, 1]\n"
     ]
    }
   ],
   "source": [
    "#using tuple\n",
    "l1=[1,32,4,45,6,78,7]\n",
    "\n",
    "get=(l1[0],l1[-1])\n",
    "l1[-1],l1[0]=get\n",
    "\n",
    "print(l1)"
   ]
  },
  {
   "cell_type": "code",
   "execution_count": 18,
   "id": "e4a61390",
   "metadata": {},
   "outputs": [
    {
     "name": "stdout",
     "output_type": "stream",
     "text": [
      "List before swapping:  [1, 32, 4, 45, 6, 78, 7]\n",
      "start: 1\n",
      "Middle: [32, 4, 45, 6, 78]\n",
      "End: 7\n",
      "List after swapping: [7, 32, 4, 45, 6, 78, 1]\n"
     ]
    }
   ],
   "source": [
    "# using * operand\n",
    "l1=[1,32,4,45,6,78,7]\n",
    "print(\"List before swapping: \", l1)\n",
    "start,*middle,end=l1\n",
    "\n",
    "print(\"start:\",start)\n",
    "print(\"Middle:\",middle)\n",
    "print(\"End:\",end)\n",
    "\n",
    "l1=[end,*middle,start]\n",
    "print(\"List after swapping:\",l1)"
   ]
  },
  {
   "cell_type": "markdown",
   "id": "27876b71",
   "metadata": {},
   "source": [
    "## 10)To delete Nth occurrence of the word"
   ]
  },
  {
   "cell_type": "code",
   "execution_count": 32,
   "id": "1d693aff",
   "metadata": {},
   "outputs": [
    {
     "data": {
      "text/plain": [
       "['geeks', 'for', 'geeks', 'geeks', 'sdfgb']"
      ]
     },
     "execution_count": 32,
     "metadata": {},
     "output_type": "execute_result"
    }
   ],
   "source": [
    "l1=[\"geeks\",\"for\",\"geeks\",\"geeks\",\"sdfgb\",\"geeks\"]\n",
    "word=\"geeks\"\n",
    "n=4\n",
    "count=0\n",
    "\n",
    "for i in range(0,len(l1)):\n",
    "    if l1[i]==word:\n",
    "        count=count+1\n",
    "        \n",
    "        if count==n:\n",
    "            del l1[i]\n",
    "            \n",
    "l1"
   ]
  },
  {
   "cell_type": "markdown",
   "id": "706faa77",
   "metadata": {},
   "source": [
    "## 11) To Search an Element in a List"
   ]
  },
  {
   "cell_type": "code",
   "execution_count": 40,
   "id": "2dfc93e4",
   "metadata": {},
   "outputs": [
    {
     "name": "stdout",
     "output_type": "stream",
     "text": [
      "Enter the number to search: 5\n",
      "Element found\n"
     ]
    }
   ],
   "source": [
    "l1=[32,5,45,67,3,87,23,78,12,56]\n",
    "# if found print \"element found\" else not found\n",
    "\n",
    "element=int(input(\"Enter the number to search: \"))\n",
    "count=0\n",
    "\n",
    "for i in range(0,len(l1)):\n",
    "    if l1[i]==element:\n",
    "        count=count+1\n",
    "if count>=1:\n",
    "    print(\"Element found\")\n",
    "        \n",
    "else:\n",
    "    print(\"Element not found\")\n",
    "        \n",
    "\n"
   ]
  },
  {
   "cell_type": "code",
   "execution_count": null,
   "id": "86de6700",
   "metadata": {},
   "outputs": [],
   "source": []
  }
 ],
 "metadata": {
  "kernelspec": {
   "display_name": "Python 3 (ipykernel)",
   "language": "python",
   "name": "python3"
  },
  "language_info": {
   "codemirror_mode": {
    "name": "ipython",
    "version": 3
   },
   "file_extension": ".py",
   "mimetype": "text/x-python",
   "name": "python",
   "nbconvert_exporter": "python",
   "pygments_lexer": "ipython3",
   "version": "3.9.7"
  }
 },
 "nbformat": 4,
 "nbformat_minor": 5
}
