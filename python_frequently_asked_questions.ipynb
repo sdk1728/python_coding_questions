{
 "cells": [
  {
   "cell_type": "markdown",
   "id": "e9e8c6b3",
   "metadata": {},
   "source": [
    "## 1) 2 number swapping"
   ]
  },
  {
   "cell_type": "code",
   "execution_count": 1,
   "id": "be2ab262",
   "metadata": {},
   "outputs": [
    {
     "name": "stdout",
     "output_type": "stream",
     "text": [
      "Enter number 1: 12\n",
      "Enter number 2: 56\n",
      "num1 before swapping: 12\n",
      "num2 before swapping: 56\n",
      "num1 after swapping: 56\n",
      "num2 after swapping: 12\n"
     ]
    }
   ],
   "source": [
    "num1=int(input(\"Enter number 1: \"))\n",
    "num2=int(input('Enter number 2: '))\n",
    "\n",
    "print(\"num1 before swapping:\",num1)\n",
    "print(\"num2 before swapping:\",num2)\n",
    "\n",
    "temp=num1\n",
    "num1=num2\n",
    "num2=temp\n",
    "\n",
    "print(\"num1 after swapping:\",num1)\n",
    "print(\"num2 after swapping:\",num2)"
   ]
  },
  {
   "cell_type": "markdown",
   "id": "d9b6a457",
   "metadata": {},
   "source": [
    "## 2) To check if number is prime or not"
   ]
  },
  {
   "cell_type": "markdown",
   "id": "d135e0c8",
   "metadata": {},
   "source": [
    "#### Prime number : should be a natural number ie. (num>1)\n",
    "#### should have only 2 factors ie. Factors= 1 & number itself"
   ]
  },
  {
   "cell_type": "code",
   "execution_count": 1,
   "id": "8f88031d",
   "metadata": {},
   "outputs": [
    {
     "name": "stdout",
     "output_type": "stream",
     "text": [
      "Enter the number:7\n",
      "Entered number is Prime\n"
     ]
    }
   ],
   "source": [
    "num=int(input(\"Enter the number:\"))\n",
    "count=0\n",
    "\n",
    "if num>1:\n",
    "    for i in range(1,num+1):\n",
    "        if num%i==0:\n",
    "            count=count+1\n",
    "            \n",
    "if count==2:\n",
    "    print(\"Entered number is Prime\")\n",
    "else:\n",
    "    print(\"Entered number is not a prime number\")\n",
    "    "
   ]
  },
  {
   "cell_type": "markdown",
   "id": "8e8e33f2",
   "metadata": {},
   "source": [
    "## 3)To print the factorial of a number\n"
   ]
  },
  {
   "cell_type": "code",
   "execution_count": 13,
   "id": "a7ae07f8",
   "metadata": {},
   "outputs": [
    {
     "name": "stdout",
     "output_type": "stream",
     "text": [
      "Enter the number: 3\n",
      "The factorial of  3 is 6\n"
     ]
    }
   ],
   "source": [
    "num=int(input(\"Enter the number: \"))\n",
    "factorial=1\n",
    "\n",
    "if num<0:\n",
    "    print(\"The factorial of a number doesn't exist!!\")\n",
    "elif num==0:\n",
    "    print(\"The factorial of 0 is 1\")\n",
    "else:\n",
    "    for i in range(1,num+1):\n",
    "        factorial=factorial*i\n",
    "    print(\"The factorial of \",num, \"is\",factorial)"
   ]
  },
  {
   "cell_type": "code",
   "execution_count": 16,
   "id": "d4cb0d46",
   "metadata": {},
   "outputs": [
    {
     "name": "stdout",
     "output_type": "stream",
     "text": [
      "Enter the number :3\n",
      "The factorial of  3 is 6\n"
     ]
    }
   ],
   "source": [
    "def factorial(n):\n",
    "    if n==0 or n==1:\n",
    "        return 1\n",
    "    else:\n",
    "        return n*factorial(n-1)\n",
    "    \n",
    "num=int(input(\"Enter the number :\"))\n",
    "print(\"The factorial of \",num,\"is\",factorial(num))"
   ]
  },
  {
   "cell_type": "code",
   "execution_count": 18,
   "id": "7b885cb6",
   "metadata": {},
   "outputs": [
    {
     "name": "stdout",
     "output_type": "stream",
     "text": [
      "1\n",
      "2\n",
      "3\n"
     ]
    }
   ],
   "source": [
    "for i in range(1,4):\n",
    "    print(i)"
   ]
  },
  {
   "cell_type": "markdown",
   "id": "a5e0306d",
   "metadata": {},
   "source": [
    "## 4)To print the Fibonacci Series\n",
    "\n",
    "### Fibonacci Series is the series of numbers in which each number is the sum of two precedding numbers\n",
    "\n",
    "### ie. 0,1,1,2,3,5,8,13,..............."
   ]
  },
  {
   "cell_type": "code",
   "execution_count": 24,
   "id": "fe4bf5a5",
   "metadata": {},
   "outputs": [
    {
     "name": "stdout",
     "output_type": "stream",
     "text": [
      "2 1\n",
      "3 2\n",
      "4 3\n",
      "5 5\n",
      "6 8\n",
      "7 13\n",
      "8 21\n",
      "9 34\n"
     ]
    }
   ],
   "source": [
    "n1=0\n",
    "n2=1\n",
    "\n",
    "#print(n1)\n",
    "#print(n2)\n",
    "\n",
    "for i in range(2,10):\n",
    "    sum=n1+n2\n",
    "    print(i,sum)\n",
    "    n1=n2\n",
    "    n2=sum\n",
    "    "
   ]
  },
  {
   "cell_type": "markdown",
   "id": "e3de79a3",
   "metadata": {},
   "source": [
    "## 5) To print sum of numbers in list\n",
    "    "
   ]
  },
  {
   "cell_type": "code",
   "execution_count": 1,
   "id": "7a32226c",
   "metadata": {},
   "outputs": [
    {
     "name": "stdout",
     "output_type": "stream",
     "text": [
      "31\n"
     ]
    }
   ],
   "source": [
    "import math\n",
    "arr=[1,4,6,8,3,9]\n",
    "print(sum(arr))"
   ]
  },
  {
   "cell_type": "code",
   "execution_count": 7,
   "id": "45da748a",
   "metadata": {},
   "outputs": [
    {
     "name": "stdout",
     "output_type": "stream",
     "text": [
      "9 9\n"
     ]
    }
   ],
   "source": [
    "for i in range():\n",
    "    if i==max(arr):\n",
    "        print(i,max(arr))"
   ]
  },
  {
   "cell_type": "code",
   "execution_count": null,
   "id": "48208bb0",
   "metadata": {},
   "outputs": [],
   "source": []
  }
 ],
 "metadata": {
  "kernelspec": {
   "display_name": "Python 3 (ipykernel)",
   "language": "python",
   "name": "python3"
  },
  "language_info": {
   "codemirror_mode": {
    "name": "ipython",
    "version": 3
   },
   "file_extension": ".py",
   "mimetype": "text/x-python",
   "name": "python",
   "nbconvert_exporter": "python",
   "pygments_lexer": "ipython3",
   "version": "3.9.7"
  }
 },
 "nbformat": 4,
 "nbformat_minor": 5
}
